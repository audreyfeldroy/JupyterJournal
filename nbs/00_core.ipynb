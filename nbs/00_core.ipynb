{
 "cells": [
  {
   "cell_type": "markdown",
   "metadata": {},
   "source": [
    "# core\n",
    "\n",
    "> Core functionality for JupyterJournal"
   ]
  },
  {
   "cell_type": "code",
   "execution_count": null,
   "metadata": {},
   "outputs": [],
   "source": [
    "#| default_exp core"
   ]
  },
  {
   "cell_type": "code",
   "execution_count": null,
   "metadata": {},
   "outputs": [],
   "source": [
    "#| hide\n",
    "from fastcore.all import *\n",
    "from fasthtml.common import *\n",
    "from nbdev.showdoc import *\n",
    "from nb2fasthtml.core import render_nb\n",
    "from pathlib import Path"
   ]
  },
  {
   "cell_type": "markdown",
   "metadata": {},
   "source": [
    "## Setup"
   ]
  },
  {
   "cell_type": "code",
   "execution_count": null,
   "metadata": {},
   "outputs": [],
   "source": [
    "#| export\n",
    "hdrs = (MarkdownJS(),HighlightJS(langs=['python', 'javascript', 'html', 'css',]),)"
   ]
  },
  {
   "cell_type": "code",
   "execution_count": null,
   "metadata": {},
   "outputs": [],
   "source": [
    "#| export\n",
    "app,rt = fast_app(hdrs=hdrs)"
   ]
  },
  {
   "cell_type": "code",
   "execution_count": null,
   "metadata": {},
   "outputs": [],
   "source": [
    "#| export\n",
    "nbs = L(Path('../nbs').glob('*.ipynb')).sorted()"
   ]
  },
  {
   "cell_type": "markdown",
   "metadata": {},
   "source": [
    "## Rendering Notebooks"
   ]
  },
  {
   "cell_type": "markdown",
   "metadata": {},
   "source": [
    "A single notebook is rendered like this:"
   ]
  },
  {
   "cell_type": "code",
   "execution_count": null,
   "metadata": {},
   "outputs": [
    {
     "data": {
      "text/markdown": [
       "```html\n",
       "<main class=\"container\">  <div class=\"frontmatter\">\n",
       "    <h1>core</h1>\n",
       "    <p>Core functionality for JupyterJournal</p>\n",
       "  </div>\n",
       "  <article>\n",
       "    <div class=\"marked\">\n",
       "```python\n",
       "#| default_exp core\n",
       "```\n",
       "</div>\n",
       "  </article>\n",
       "  <article>\n",
       "    <div class=\"marked\">\n",
       "```python\n",
       "#| hide\n",
       "from fastcore.all import *\n",
       "from fasthtml.common import *\n",
       "from nbdev.showdoc import *\n",
       "from nb2fasthtml.core import render_nb\n",
       "from pathlib import Path\n",
       "```\n",
       "</div>\n",
       "  </article>\n",
       "  <article>\n",
       "    <div class=\"marked\">\n",
       "```python\n",
       "hdrs = (MarkdownJS(),\n",
       "    HighlightJS(langs=[&#x27;python&#x27;, &#x27;javascript&#x27;, &#x27;html&#x27;, &#x27;css&#x27;,]),\n",
       ")\n",
       "```\n",
       "</div>\n",
       "  </article>\n",
       "  <article>\n",
       "    <div class=\"marked\">\n",
       "```python\n",
       "nbs = L(Path(&#x27;../nbs&#x27;).glob(&#x27;*.ipynb&#x27;)).sorted()\n",
       "nbs\n",
       "```\n",
       "</div>\n",
       "    <footer><pre ><code>(#2) [Path(&#x27;../nbs/00_core.ipynb&#x27;),Path(&#x27;../nbs/index.ipynb&#x27;)]</code></pre></footer>\n",
       "  </article>\n",
       "  <article>\n",
       "    <div class=\"marked\">\n",
       "```python\n",
       "render_nb(nbs[0])\n",
       "```\n",
       "</div>\n",
       "    <footer><pre><code class=\"language-html\">&lt;main class=\"container\"&gt;  &lt;div class=\"frontmatter\"&gt;\n",
       "    &lt;h1&gt;core&lt;/h1&gt;\n",
       "    &lt;p&gt;Fill in a module description here&lt;/p&gt;\n",
       "  &lt;/div&gt;\n",
       "  &lt;article&gt;\n",
       "    &lt;div class=\"marked\"&gt;\n",
       "</code></pre>\n",
       "<p>#| default_exp core</p>\n",
       "<pre><code>&lt;/div&gt;\n",
       "  &lt;/article&gt;\n",
       "  &lt;article&gt;\n",
       "    &lt;div class=\"marked\"&gt;\n",
       "</code></pre>\n",
       "<p>#| hide\n",
       "from fastcore.all import *\n",
       "from nbdev.showdoc import *\n",
       "from nb2fasthtml.core import render_nb\n",
       "from pathlib import Path</p>\n",
       "<pre><code>&lt;/div&gt;\n",
       "  &lt;/article&gt;\n",
       "  &lt;article&gt;\n",
       "    &lt;div class=\"marked\"&gt;\n",
       "</code></pre>\n",
       "<p>nbs = L(Path('../nbs').glob('*.ipynb'))\n",
       "nbs</p>\n",
       "<pre><code>&lt;/div&gt;\n",
       "    &lt;footer&gt;&lt;pre &gt;&lt;code&gt;(#2) [Path(&amp;#x27;../nbs/00_core.ipynb&amp;#x27;),Path(&amp;#x27;../nbs/index.ipynb&amp;#x27;)]&lt;/code&gt;&lt;/pre&gt;&lt;/footer&gt;\n",
       "  &lt;/article&gt;\n",
       "  &lt;article&gt;\n",
       "    &lt;div class=\"marked\"&gt;\n",
       "</code></pre>\n",
       "<p>#| export\n",
       "def foo(): pass</p>\n",
       "<pre><code>&lt;/div&gt;\n",
       "  &lt;/article&gt;\n",
       "  &lt;article&gt;\n",
       "    &lt;div class=\"marked\"&gt;\n",
       "</code></pre>\n",
       "<p>#| hide\n",
       "import nbdev; nbdev.nbdev_export()</p>\n",
       "<pre><code>&lt;/div&gt;\n",
       "  &lt;/article&gt;\n",
       "&lt;/main&gt;\n",
       "</code></pre>\n",
       "</footer>\n",
       "  </article>\n",
       "  <article>\n",
       "    <div class=\"marked\">\n",
       "```python\n",
       "#| export\n",
       "def foo(): pass\n",
       "```\n",
       "</div>\n",
       "  </article>\n",
       "  <article>\n",
       "    <div class=\"marked\">\n",
       "```python\n",
       "#| hide\n",
       "import nbdev; nbdev.nbdev_export()\n",
       "```\n",
       "</div>\n",
       "  </article>\n",
       "</main>\n",
       "```"
      ],
      "text/plain": [
       "main((div((h1(('core',),{}), p(('Core functionality for JupyterJournal',),{})),{'class': 'frontmatter'}), article((div(('\\n```python\\n#| default_exp core\\n```\\n',),{'class': 'marked'}), ''),{}), article((div(('\\n```python\\n#| hide\\nfrom fastcore.all import *\\nfrom fasthtml.common import *\\nfrom nbdev.showdoc import *\\nfrom nb2fasthtml.core import render_nb\\nfrom pathlib import Path\\n```\\n',),{'class': 'marked'}), ''),{}), article((div((\"\\n```python\\nhdrs = (MarkdownJS(),\\n    HighlightJS(langs=['python', 'javascript', 'html', 'css',]),\\n)\\n```\\n\",),{'class': 'marked'}), ''),{}), article((div((\"\\n```python\\nnbs = L(Path('../nbs').glob('*.ipynb')).sorted()\\nnbs\\n```\\n\",),{'class': 'marked'}), footer(('<pre ><code>(#2) [Path(&#x27;../nbs/00_core.ipynb&#x27;),Path(&#x27;../nbs/index.ipynb&#x27;)]</code></pre>',),{})),{}), article((div(('\\n```python\\nrender_nb(nbs[0])\\n```\\n',),{'class': 'marked'}), footer(('<pre><code class=\"language-html\">&lt;main class=\"container\"&gt;  &lt;div class=\"frontmatter\"&gt;\\n    &lt;h1&gt;core&lt;/h1&gt;\\n    &lt;p&gt;Fill in a module description here&lt;/p&gt;\\n  &lt;/div&gt;\\n  &lt;article&gt;\\n    &lt;div class=\"marked\"&gt;\\n</code></pre>\\n<p>#| default_exp core</p>\\n<pre><code>&lt;/div&gt;\\n  &lt;/article&gt;\\n  &lt;article&gt;\\n    &lt;div class=\"marked\"&gt;\\n</code></pre>\\n<p>#| hide\\nfrom fastcore.all import *\\nfrom nbdev.showdoc import *\\nfrom nb2fasthtml.core import render_nb\\nfrom pathlib import Path</p>\\n<pre><code>&lt;/div&gt;\\n  &lt;/article&gt;\\n  &lt;article&gt;\\n    &lt;div class=\"marked\"&gt;\\n</code></pre>\\n<p>nbs = L(Path(\\'../nbs\\').glob(\\'*.ipynb\\'))\\nnbs</p>\\n<pre><code>&lt;/div&gt;\\n    &lt;footer&gt;&lt;pre &gt;&lt;code&gt;(#2) [Path(&amp;#x27;../nbs/00_core.ipynb&amp;#x27;),Path(&amp;#x27;../nbs/index.ipynb&amp;#x27;)]&lt;/code&gt;&lt;/pre&gt;&lt;/footer&gt;\\n  &lt;/article&gt;\\n  &lt;article&gt;\\n    &lt;div class=\"marked\"&gt;\\n</code></pre>\\n<p>#| export\\ndef foo(): pass</p>\\n<pre><code>&lt;/div&gt;\\n  &lt;/article&gt;\\n  &lt;article&gt;\\n    &lt;div class=\"marked\"&gt;\\n</code></pre>\\n<p>#| hide\\nimport nbdev; nbdev.nbdev_export()</p>\\n<pre><code>&lt;/div&gt;\\n  &lt;/article&gt;\\n&lt;/main&gt;\\n</code></pre>\\n',),{})),{}), article((div(('\\n```python\\n#| export\\ndef foo(): pass\\n```\\n',),{'class': 'marked'}), ''),{}), article((div(('\\n```python\\n#| hide\\nimport nbdev; nbdev.nbdev_export()\\n```\\n',),{'class': 'marked'}), ''),{})),{'class': 'container'})"
      ]
     },
     "execution_count": null,
     "metadata": {},
     "output_type": "execute_result"
    }
   ],
   "source": [
    "render_nb(nbs[0])"
   ]
  },
  {
   "cell_type": "code",
   "execution_count": null,
   "metadata": {},
   "outputs": [],
   "source": [
    "#| export\n",
    "def foo(): pass"
   ]
  },
  {
   "cell_type": "code",
   "execution_count": null,
   "metadata": {},
   "outputs": [],
   "source": [
    "#| hide\n",
    "import nbdev; nbdev.nbdev_export()"
   ]
  }
 ],
 "metadata": {
  "kernelspec": {
   "display_name": "python3",
   "language": "python",
   "name": "python3"
  }
 },
 "nbformat": 4,
 "nbformat_minor": 4
}
